{
 "cells": [
  {
   "cell_type": "code",
   "execution_count": 1,
   "metadata": {},
   "outputs": [],
   "source": [
    "#import library\n",
    "import os\n",
    "import csv\n",
    "\n",
    "#joining path\n",
    "budget_data = os.path.join(\"Resources\", \"budget_data.csv\")"
   ]
  },
  {
   "cell_type": "code",
   "execution_count": 2,
   "metadata": {},
   "outputs": [
    {
     "name": "stdout",
     "output_type": "stream",
     "text": [
      "Header: Date,Profit/Losses\r\n",
      "\n",
      "Financial Analysis\n",
      ".........................................................................\n",
      "total months: 86\n",
      "Total: $38382578\n",
      "Average change: $-2315.1176470588234\n",
      "Greatest Increase in Profits: Feb-2012 $1926159\n",
      "Greatest Decrease in Profits: Sep-2013 $-2196167\n"
     ]
    }
   ],
   "source": [
    "with open(budget_data, newline=\"\") as csvfile:\n",
    "    csvreader = csv.reader(csvfile, delimiter=\",\")\n",
    "    csv_header = next(csvfile)\n",
    "    # skip header row\n",
    "    print(f\"Header: {csv_header}\")\n",
    "\n",
    "    # find net amount of profit and loss\n",
    "    Q = []\n",
    "    months = []\n",
    "\n",
    "    #read through each row of data after header\n",
    "    for rows in csvreader:\n",
    "        Q.append(int(rows[1]))\n",
    "        months.append(rows[0])\n",
    "\n",
    "    # find revenue change\n",
    "    revenue_change = []\n",
    "\n",
    "    for x in range(1, len(Q)):\n",
    "        revenue_change.append((int(Q[x]) - int(Q[x-1])))\n",
    "    \n",
    "    # calculate average revenue change\n",
    "    revenue_average = sum(revenue_change) / len(revenue_change)\n",
    "    \n",
    "    # calculate total length of months\n",
    "    total_months = len(months)\n",
    "\n",
    "    # greatest increase in revenue\n",
    "    greatest_increase = max(revenue_change)\n",
    "    # greatest decrease in revenue\n",
    "    greatest_decrease = min(revenue_change)\n",
    "    print(\"Financial Analysis\")\n",
    "    print(\".........................................................................\")\n",
    "    print(\"total months: \" + str(total_months))\n",
    "    print(\"Total: \" + \"$\" + str(sum(Q)))\n",
    "    print(\"Average change: \" + \"$\" + str(revenue_average))\n",
    "    print(\"Greatest Increase in Profits: \" + str(months[revenue_change.index(max(revenue_change))+1]) + \" \" + \"$\" + str(greatest_increase))\n",
    "    print(\"Greatest Decrease in Profits: \" + str(months[revenue_change.index(min(revenue_change))+1]) + \" \" + \"$\" + str(greatest_decrease))"
   ]
  },
  {
   "cell_type": "code",
   "execution_count": 3,
   "metadata": {},
   "outputs": [],
   "source": [
    "# output to a text file\n",
    "file = open(\"output.txt\",\"w\")\n",
    "file.write(\"Financial Analysis\" + \"\\n\")\n",
    "file.write(\"....................................................................................\" + \"\\n\")\n",
    "file.write(\"total months: \" + str(total_months) + \"\\n\")\n",
    "file.write(\"Total: \" + \"$\" + str(sum(Q)) + \"\\n\")\n",
    "file.write(\"Average change: \" + \"$\" + str(revenue_average) + \"\\n\")\n",
    "file.write(\"Greatest Increase in Profits: \" + str(months[revenue_change.index(max(revenue_change))+1]) + \" \" + \"$\" + str(greatest_increase) + \"\\n\")\n",
    "file.write(\"Greatest Decrease in Profits: \" + str(months[revenue_change.index(min(revenue_change))+1]) + \" \" + \"$\" + str(greatest_decrease) + \"\\n\")\n",
    "file.close()"
   ]
  }
 ],
 "metadata": {
  "kernelspec": {
   "display_name": "Python 3",
   "language": "python",
   "name": "python3"
  },
  "language_info": {
   "codemirror_mode": {
    "name": "ipython",
    "version": 3
   },
   "file_extension": ".py",
   "mimetype": "text/x-python",
   "name": "python",
   "nbconvert_exporter": "python",
   "pygments_lexer": "ipython3",
   "version": "3.7.3"
  }
 },
 "nbformat": 4,
 "nbformat_minor": 2
}
